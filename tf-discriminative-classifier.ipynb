{
 "cells": [
  {
   "cell_type": "code",
   "execution_count": null,
   "metadata": {
    "collapsed": true
   },
   "outputs": [],
   "source": [
    "import json\n",
    "import tensorflow as tf"
   ]
  },
  {
   "cell_type": "code",
   "execution_count": null,
   "metadata": {},
   "outputs": [],
   "source": [
    "from nltk.tokenize import word_tokenize"
   ]
  },
  {
   "cell_type": "code",
   "execution_count": null,
   "metadata": {
    "collapsed": true
   },
   "outputs": [],
   "source": [
    "def convert_json_to_review_and_rating(json_text):\n",
    "    review_dict = json.loads(json_text)    \n",
    "    return review_dict['reviewText'], review_dict['overall']"
   ]
  },
  {
   "cell_type": "code",
   "execution_count": null,
   "metadata": {
    "collapsed": true
   },
   "outputs": [],
   "source": [
    "def get_reviews_and_ratings(reviews_filepath):\n",
    "    review_texts = list()\n",
    "    ratings = list()\n",
    "    with open(reviews_filepath) as reviews_file:\n",
    "        for line in reviews_file:\n",
    "            review_text, rating = convert_json_to_review_and_rating(line)\n",
    "            review_texts.append(review_text)\n",
    "            ratings.append(int(rating))\n",
    "            \n",
    "    return review_texts, ratings"
   ]
  },
  {
   "cell_type": "code",
   "execution_count": null,
   "metadata": {
    "collapsed": true
   },
   "outputs": [],
   "source": [
    "def texts_to_indexed_word_sequences(review_texts):\n",
    "    word_indices = dict()\n",
    "    indexed_sequences = list()\n",
    "    word_index = 1\n",
    "    \n",
    "    for review_text in review_texts:\n",
    "        tokens = word_tokenize(review_text)\n",
    "        indexed_sequence = list()\n",
    "        for token in tokens:\n",
    "            if token not in word_indices:\n",
    "                word_indices[token] = word_index\n",
    "                indexed_sequence.append(word_index)\n",
    "                word_index += 1\n",
    "            else:\n",
    "                indexed_sequence.append(word_indices[token])\n",
    "        indexed_sequences.append(indexed_sequence)\n",
    "        \n",
    "    return word_indices, indexed_sequences"
   ]
  },
  {
   "cell_type": "code",
   "execution_count": null,
   "metadata": {
    "collapsed": true
   },
   "outputs": [],
   "source": [
    "reviews_filepath = \"/home/v2john/datasets/amazon/reviews_electronics.json\""
   ]
  },
  {
   "cell_type": "code",
   "execution_count": null,
   "metadata": {},
   "outputs": [],
   "source": [
    "review_texts, ratings = get_reviews_and_ratings(reviews_filepath)\n",
    "print(len(review_texts), len(ratings))"
   ]
  },
  {
   "cell_type": "code",
   "execution_count": null,
   "metadata": {},
   "outputs": [],
   "source": [
    "word_indices, indexed_sequences = texts_to_indexed_word_sequences(review_texts)"
   ]
  },
  {
   "cell_type": "code",
   "execution_count": null,
   "metadata": {},
   "outputs": [],
   "source": [
    "VOCAB_SIZE = len(word_indices)\n",
    "EMBEDDING_SIZE = 300\n",
    "MAX_SEQUENCE_LENGTH = max([len(sequence) for sequence in indexed_sequences])\n",
    "NUM_CLASSES = len(set(ratings))"
   ]
  },
  {
   "cell_type": "code",
   "execution_count": null,
   "metadata": {},
   "outputs": [],
   "source": [
    "graph_1 = tf.Graph()\n",
    "with graph_1.as_default():\n",
    "    \n",
    "    input_x = tf.placeholder(\n",
    "        tf.int32, [None, MAX_SEQUENCE_LENGTH], name=\"input_x\")\n",
    "    input_y = tf.placeholder(\n",
    "        tf.float32, [None, NUM_CLASSES], name=\"input_y\")\n",
    "    init_state = tf.zeros(\n",
    "        shape=[100], dtype=tf.float32, name='init_state')\n",
    "    \n",
    "    weights = tf.Variable(\n",
    "        dtype=tf.float32, name='weights',\n",
    "        initial_value=tf.truncated_normal(\n",
    "            shape=[128, 1], stddev=0.001, dtype=tf.float32))\n",
    "    biases = tf.Variable(\n",
    "        dtype=tf.float32, name='weights', \n",
    "        initial_value=tf.truncated_normal(\n",
    "            shape=[1, 1], stddev=0.001, dtype=tf.float32))\n",
    "\n",
    "    word_embeddings = tf.get_variable(\n",
    "        shape=[VOCAB_SIZE, EMBEDDING_SIZE], name=\"word_embeddings\", dtype=tf.float32)\n",
    "    print(\"word_embeddings.shape: \", word_embeddings.shape)\n",
    "    \n",
    "    embedded_sequence = tf.nn.embedding_lookup(\n",
    "        word_embeddings, input_x, name=\"embedded_sequence\")\n",
    "    print(\"embedded_sequence.shape: \", embedded_sequence.shape)\n",
    "    \n",
    "    conv_1 = tf.layers.conv1d(\n",
    "        inputs=embedded_sequence, filters=300, kernel_size=3, name=\"conv_1\")\n",
    "    print(\"conv_1.shape: \", conv_1.shape)\n",
    "    max_pool_1 = tf.layers.max_pooling1d(\n",
    "        inputs=conv_1, pool_size=2, strides=2, name=\"max_pool_1\")\n",
    "    print(\"max_pool_1.shape: \", max_pool_1.shape)\n",
    "    \n",
    "    conv_2 = tf.layers.conv1d(\n",
    "        inputs=max_pool_1, filters=150, kernel_size=3, name=\"conv_2\")\n",
    "    print(\"conv_2.shape: \", conv_2.shape)\n",
    "    max_pool_2 = tf.layers.max_pooling1d(\n",
    "        inputs=conv_2, pool_size=2, strides=2, name=\"max_pool_2\")\n",
    "    print(\"max_pool_2.shape: \", max_pool_2.shape)\n",
    "    \n",
    "    lstm_cell_1 = tf.contrib.rnn.BasicLSTMCell(128)\n",
    "    states_series, current_state = tf.nn.dynamic_rnn(\n",
    "        cell=lstm_cell_1, inputs=max_pool_2, dtype=tf.float32)\n",
    "    print(\"current_state.h.shape: \", current_state.h.shape)\n",
    "    \n",
    "    dense_1 = tf.layers.dense(\n",
    "        inputs=current_state.h, units=NUM_CLASSES, name=\"dense_1\")\n",
    "    print(\"dense_1.shape: \", dense_1.shape)\n",
    "    \n",
    "    softmax_output = tf.nn.softmax(\n",
    "        dense_1, name=\"softmax\")\n",
    "    print(\"final_predictions.shape: \", final_predictions.shape)"
   ]
  },
  {
   "cell_type": "code",
   "execution_count": null,
   "metadata": {
    "collapsed": true
   },
   "outputs": [],
   "source": []
  }
 ],
 "metadata": {
  "kernelspec": {
   "display_name": "Python 3",
   "language": "python",
   "name": "python3"
  },
  "language_info": {
   "codemirror_mode": {
    "name": "ipython",
    "version": 3
   },
   "file_extension": ".py",
   "mimetype": "text/x-python",
   "name": "python",
   "nbconvert_exporter": "python",
   "pygments_lexer": "ipython3",
   "version": "3.6.2"
  }
 },
 "nbformat": 4,
 "nbformat_minor": 2
}
