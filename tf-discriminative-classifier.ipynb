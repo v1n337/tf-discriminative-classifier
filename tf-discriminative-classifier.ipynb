{
 "cells": [
  {
   "cell_type": "code",
   "execution_count": null,
   "metadata": {},
   "outputs": [],
   "source": [
    "import json\n",
    "import time\n",
    "import numpy as np\n",
    "import tensorflow as tf"
   ]
  },
  {
   "cell_type": "code",
   "execution_count": null,
   "metadata": {
    "collapsed": true
   },
   "outputs": [],
   "source": [
    "from statistics import median\n",
    "from nltk.tokenize import word_tokenize\n",
    "from sklearn.metrics import f1_score, confusion_matrix\n",
    "from sklearn.utils import shuffle"
   ]
  },
  {
   "cell_type": "code",
   "execution_count": null,
   "metadata": {
    "collapsed": true
   },
   "outputs": [],
   "source": [
    "def convert_json_to_review_and_rating(json_text):\n",
    "    review_dict = json.loads(json_text)    \n",
    "    return review_dict['reviewText'], review_dict['overall']"
   ]
  },
  {
   "cell_type": "code",
   "execution_count": null,
   "metadata": {
    "collapsed": true
   },
   "outputs": [],
   "source": [
    "def get_reviews_and_ratings(reviews_filepath):\n",
    "    review_texts = list()\n",
    "    ratings = list()\n",
    "    with open(reviews_filepath) as reviews_file:\n",
    "        for line in reviews_file:\n",
    "            review_text, rating = convert_json_to_review_and_rating(line)\n",
    "            review_texts.append(review_text)\n",
    "            ratings.append(int(rating))\n",
    "            \n",
    "    return review_texts, ratings"
   ]
  },
  {
   "cell_type": "code",
   "execution_count": null,
   "metadata": {
    "collapsed": true
   },
   "outputs": [],
   "source": [
    "def texts_to_indexed_word_sequences(review_texts):\n",
    "    word_indices = dict()\n",
    "    indexed_sequences = list()\n",
    "    word_index = 1\n",
    "    \n",
    "    for review_text in review_texts:\n",
    "        tokens = word_tokenize(review_text)\n",
    "        indexed_sequence = list()\n",
    "        for token in tokens:\n",
    "            if token not in word_indices:\n",
    "                word_indices[token] = word_index\n",
    "                indexed_sequence.append(word_index)\n",
    "                word_index += 1\n",
    "            else:\n",
    "                indexed_sequence.append(word_indices[token])\n",
    "        indexed_sequences.append(np.asarray(indexed_sequence))\n",
    "        \n",
    "    return word_indices, indexed_sequences"
   ]
  },
  {
   "cell_type": "code",
   "execution_count": null,
   "metadata": {
    "collapsed": true
   },
   "outputs": [],
   "source": [
    "reviews_filepath = \"/home/v2john/datasets/amazon/reviews_electronics.json\""
   ]
  },
  {
   "cell_type": "code",
   "execution_count": null,
   "metadata": {},
   "outputs": [],
   "source": [
    "review_texts, ratings = get_reviews_and_ratings(reviews_filepath)\n",
    "review_texts, ratings = shuffle(review_texts, ratings)\n",
    "print(len(review_texts), len(ratings))"
   ]
  },
  {
   "cell_type": "code",
   "execution_count": null,
   "metadata": {
    "collapsed": true
   },
   "outputs": [],
   "source": [
    "word_indices, indexed_sequences = texts_to_indexed_word_sequences(review_texts)"
   ]
  },
  {
   "cell_type": "code",
   "execution_count": null,
   "metadata": {},
   "outputs": [],
   "source": [
    "VOCAB_SIZE = len(word_indices)\n",
    "print(\"VOCAB_SIZE: \", VOCAB_SIZE)\n",
    "\n",
    "EMBEDDING_SIZE = 300\n",
    "print(\"EMBEDDING_SIZE: \", EMBEDDING_SIZE)\n",
    "\n",
    "MAX_SEQUENCE_LENGTH = int(median([len(sequence) for sequence in indexed_sequences]))\n",
    "print(\"MAX_SEQUENCE_LENGTH: \", MAX_SEQUENCE_LENGTH)\n",
    "\n",
    "NUM_CLASSES = len(set(ratings))\n",
    "print(\"NUM_CLASSES: \", NUM_CLASSES)"
   ]
  },
  {
   "cell_type": "code",
   "execution_count": null,
   "metadata": {
    "collapsed": true
   },
   "outputs": [],
   "source": [
    "def pad_indexed_sequences(indexed_sequences, max_sequence_length):\n",
    "    new_indexed_sequences = list()\n",
    "    for sequence in indexed_sequences:\n",
    "        if len(sequence) >= max_sequence_length:\n",
    "            new_indexed_sequences.append(sequence[:max_sequence_length])\n",
    "        else:\n",
    "            shortfall = max_sequence_length - len(sequence)\n",
    "            new_indexed_sequences.append(\n",
    "                np.pad(sequence, (0, shortfall), 'constant', \n",
    "                       constant_values=(0, 0)))\n",
    "    return np.asarray(new_indexed_sequences)\n",
    "\n",
    "def convert_labels_to_logits(ratings, num_classes):\n",
    "    one_hot_ratings = list()\n",
    "    for rating in ratings:\n",
    "        one_hot_rating = np.zeros(num_classes)\n",
    "        one_hot_rating[rating - 1] = 1\n",
    "        one_hot_ratings.append(one_hot_rating)\n",
    "        \n",
    "    return np.asarray(one_hot_ratings)\n",
    "\n",
    "def tensorize_sequences_and_labels(indexed_sequences, ratings, max_sequence_length, num_classes):\n",
    "    return pad_indexed_sequences(indexed_sequences, max_sequence_length), \\\n",
    "        convert_labels_to_logits(ratings, num_classes)"
   ]
  },
  {
   "cell_type": "code",
   "execution_count": null,
   "metadata": {
    "collapsed": true
   },
   "outputs": [],
   "source": [
    "indexed_sequences, labels = tensorize_sequences_and_labels(\n",
    "    indexed_sequences, ratings, MAX_SEQUENCE_LENGTH, NUM_CLASSES)"
   ]
  },
  {
   "cell_type": "code",
   "execution_count": null,
   "metadata": {},
   "outputs": [],
   "source": [
    "indexed_sequences.shape, labels.shape"
   ]
  },
  {
   "cell_type": "code",
   "execution_count": null,
   "metadata": {},
   "outputs": [],
   "source": [
    "graph_1 = tf.Graph()\n",
    "current_epoch = int(time.time())\n",
    "with graph_1.as_default():\n",
    "    \n",
    "    input_x = tf.placeholder(\n",
    "        tf.int32, [None, MAX_SEQUENCE_LENGTH], name=\"input_x\")\n",
    "    input_y = tf.placeholder(\n",
    "        tf.int32, [None, NUM_CLASSES], name=\"input_y\")\n",
    "\n",
    "    word_embeddings = tf.get_variable(\n",
    "        shape=[VOCAB_SIZE + 1, EMBEDDING_SIZE], name=\"word_embeddings\", \n",
    "        dtype=tf.float32)\n",
    "    print(\"word_embeddings: \", word_embeddings)\n",
    "    \n",
    "    embedded_sequence = tf.nn.embedding_lookup(\n",
    "        word_embeddings, input_x, name=\"embedded_sequence\")\n",
    "    print(\"embedded_sequence: \", embedded_sequence)\n",
    "    \n",
    "    conv_1 = tf.layers.conv1d(\n",
    "        inputs=embedded_sequence, filters=64, kernel_size=3, \n",
    "        activation=tf.nn.relu, name=\"conv_1\")\n",
    "    print(\"conv_1: \", conv_1)\n",
    "    \n",
    "    bnorm_1 = tf.layers.batch_normalization(conv_1, name=\"batch_norm_1\")\n",
    "    print(\"batch_norm_1: \", bnorm_1)\n",
    "    \n",
    "    max_pool_1 = tf.layers.max_pooling1d(\n",
    "        inputs=conv_1, pool_size=2, strides=2, name=\"max_pool_1\")\n",
    "    print(\"max_pool_1: \", max_pool_1)\n",
    "    \n",
    "    conv_2 = tf.layers.conv1d(\n",
    "        inputs=max_pool_1, filters=128, kernel_size=3, \n",
    "        activation=tf.nn.relu, name=\"conv_2\")\n",
    "    print(\"conv_2: \", conv_2)\n",
    "    \n",
    "    bnorm_2 = tf.layers.batch_normalization(conv_2, name=\"batch_norm_2\")\n",
    "    print(\"batch_norm_2: \", bnorm_2)\n",
    "    \n",
    "    max_pool_2 = tf.layers.max_pooling1d(\n",
    "        inputs=conv_2, pool_size=2, strides=2, name=\"max_pool_2\")\n",
    "    print(\"max_pool_2: \", max_pool_2)\n",
    "    \n",
    "    lstm_cell_fw = tf.contrib.rnn.BasicLSTMCell(\n",
    "        num_units=32)\n",
    "    lstm_cell_bw = tf.contrib.rnn.BasicLSTMCell(\n",
    "        num_units=32)\n",
    "    \n",
    "    outputs, output_states = tf.nn.bidirectional_dynamic_rnn(\n",
    "        cell_fw=lstm_cell_fw, cell_bw=lstm_cell_bw, inputs=max_pool_2, \n",
    "        dtype=tf.float32)\n",
    "    print(\"fw_lstm_output: \", output_states[0].h)\n",
    "    print(\"bw_lstm_output: \", output_states[1].h)\n",
    "    \n",
    "    lstm_output = tf.concat([output_states[0].h, output_states[1].h], \n",
    "                            axis=1)\n",
    "    print(\"lstm_output: \", lstm_output)\n",
    "    \n",
    "    bnorm_3 = tf.layers.batch_normalization(lstm_output, name=\"batch_norm_3\")\n",
    "    print(\"batch_norm_3: \", bnorm_3)\n",
    "    \n",
    "#     dense_1 = tf.layers.dense(\n",
    "#         inputs=lstm_output, units=1000, \n",
    "#         activation=tf.nn.relu, name=\"dense_1\")\n",
    "#     print(\"dense_1.shape: \", dense_1.shape)\n",
    "    \n",
    "    dense_2 = tf.layers.dense(\n",
    "        inputs=lstm_output, units=NUM_CLASSES, \n",
    "        activation=tf.nn.relu, name=\"dense_2\")\n",
    "    print(\"dense_2.shape: \", dense_2.shape)\n",
    "    \n",
    "    softmax_output = tf.nn.softmax(dense_2, name=\"softmax\")\n",
    "    print(\"softmax_output.shape: \", softmax_output.shape)\n",
    "    \n",
    "    one_hot_label = tf.one_hot(\n",
    "        indices=input_y-1, depth=1, on_value=1, off_value=0,\n",
    "        name=\"one_hot_label\")\n",
    "    one_hot_label = tf.reshape(one_hot_label, tf.shape(softmax_output))\n",
    "    print(\"one_hot_label.shape: \", one_hot_label.shape)\n",
    "    \n",
    "    loss = tf.losses.softmax_cross_entropy(\n",
    "        one_hot_label, softmax_output)\n",
    "    \n",
    "    loss_summary = tf.summary.scalar(\n",
    "        \"cross-entropy-loss-\" + str(current_epoch), tf.convert_to_tensor(loss))\n",
    "    \n",
    "    optimizer = tf.train.AdamOptimizer()\n",
    "    train_op = optimizer.minimize(loss)"
   ]
  },
  {
   "cell_type": "code",
   "execution_count": null,
   "metadata": {},
   "outputs": [],
   "source": [
    "with tf.Session(graph=graph_1) as sess:\n",
    "    sess.run(tf.global_variables_initializer())\n",
    "    \n",
    "    writer = tf.summary.FileWriter(\n",
    "        logdir=\"/home/v2john/tensorlogs/\", graph=graph_1)\n",
    "    \n",
    "    epoch_reporting_interval = 10\n",
    "    training_examples_fraction = 0.9\n",
    "    training_examples_size = int(training_examples_fraction * len(labels))\n",
    "    batch_size = 100\n",
    "    training_epochs = 100\n",
    "    num_batches = int(training_examples_size/batch_size)\n",
    "    \n",
    "    mini_epoch = 1\n",
    "    for current_epoch in range(1, training_epochs + 1):\n",
    "        for batch_number in range(num_batches):\n",
    "            _, loss_var, loss_summary_var = sess.run(\n",
    "                [train_op, loss, loss_summary], \n",
    "                feed_dict={\n",
    "                    input_x: indexed_sequences[batch_number * batch_size : \n",
    "                                               (batch_number + 1) * batch_size],\n",
    "                    input_y: labels[batch_number * batch_size : \n",
    "                                    (batch_number + 1) * batch_size]})\n",
    "            writer.add_summary(loss_summary_var, mini_epoch)\n",
    "            writer.flush()\n",
    "            mini_epoch += 1\n",
    "\n",
    "        if (current_epoch % epoch_reporting_interval == 0):\n",
    "            print(\"Training epoch: \", current_epoch, \", Loss: \", loss_var)\n",
    "            \n",
    "    training_predictions = sess.run(\n",
    "        softmax_output, \n",
    "        feed_dict={\n",
    "            input_x: indexed_sequences[:training_examples_size], \n",
    "            input_y: labels[:training_examples_size]\n",
    "        })\n",
    "    \n",
    "    test_predictions = sess.run(\n",
    "        softmax_output, \n",
    "        feed_dict={\n",
    "            input_x: indexed_sequences[training_examples_size:], \n",
    "            input_y: labels[training_examples_size:]\n",
    "        })\n",
    "    \n",
    "    writer.flush()\n",
    "    writer.close()"
   ]
  },
  {
   "cell_type": "code",
   "execution_count": null,
   "metadata": {
    "collapsed": true
   },
   "outputs": [],
   "source": [
    "y_train_pred = list()\n",
    "y_train_true = ratings[:training_examples_size]\n",
    "for prediction in training_predictions:\n",
    "    y_label = np.argmax(prediction) + 1\n",
    "    y_train_pred.append(y_label)\n",
    "\n",
    "y_test_pred = list()\n",
    "y_test_true = ratings[training_examples_size:]\n",
    "for prediction in test_predictions:\n",
    "    y_label = np.argmax(prediction) + 1\n",
    "    y_test_pred.append(y_label)"
   ]
  },
  {
   "cell_type": "code",
   "execution_count": null,
   "metadata": {
    "collapsed": true
   },
   "outputs": [],
   "source": [
    "training_accuracy = f1_score(y_true=y_train_true, y_pred=y_train_pred, average='micro')\n",
    "test_accuracy = f1_score(y_true=y_test_true, y_pred=y_test_pred, average='micro')"
   ]
  },
  {
   "cell_type": "code",
   "execution_count": null,
   "metadata": {},
   "outputs": [],
   "source": [
    "print(\"training_accuracy: \", training_accuracy)\n",
    "print(\"test_accuracy: \", test_accuracy)"
   ]
  },
  {
   "cell_type": "code",
   "execution_count": null,
   "metadata": {},
   "outputs": [],
   "source": [
    "confusion_matrix(y_test_true, y_test_pred)"
   ]
  },
  {
   "cell_type": "code",
   "execution_count": null,
   "metadata": {
    "collapsed": true
   },
   "outputs": [],
   "source": []
  }
 ],
 "metadata": {
  "kernelspec": {
   "display_name": "Python 3",
   "language": "python",
   "name": "python3"
  },
  "language_info": {
   "codemirror_mode": {
    "name": "ipython",
    "version": 3
   },
   "file_extension": ".py",
   "mimetype": "text/x-python",
   "name": "python",
   "nbconvert_exporter": "python",
   "pygments_lexer": "ipython3",
   "version": "3.6.2"
  }
 },
 "nbformat": 4,
 "nbformat_minor": 2
}
